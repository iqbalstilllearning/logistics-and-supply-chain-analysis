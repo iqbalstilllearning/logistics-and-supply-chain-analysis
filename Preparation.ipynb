{
  "cells": [
    {
      "cell_type": "markdown",
      "metadata": {
        "id": "1TeVZPm2bM4W"
      },
      "source": [
        "# **Data Preparation**"
      ]
    },
    {
      "cell_type": "code",
      "execution_count": 1,
      "metadata": {
        "id": "8P2SVZSEZRjr"
      },
      "outputs": [],
      "source": [
        "import pandas as pd\n",
        "import numpy as np"
      ]
    },
    {
      "cell_type": "code",
      "execution_count": 2,
      "metadata": {
        "id": "DVKl60M2Zxi7"
      },
      "outputs": [],
      "source": [
        "df_orders = pd.read_csv('orders_and_shipments.csv',encoding='ISO-8859-1')\n",
        "df_inventory = pd.read_csv('inventory.csv')\n",
        "df_fulfillment = pd.read_csv('fulfillment.csv')"
      ]
    },
    {
      "cell_type": "code",
      "execution_count": 3,
      "metadata": {
        "colab": {
          "base_uri": "https://localhost:8080/",
          "height": 377
        },
        "id": "007KSxs7DCTv",
        "outputId": "60a95c62-3429-4e4d-fbf1-ba68ae680d36"
      },
      "outputs": [
        {
          "data": {
            "text/html": [
              "<div>\n",
              "<style scoped>\n",
              "    .dataframe tbody tr th:only-of-type {\n",
              "        vertical-align: middle;\n",
              "    }\n",
              "\n",
              "    .dataframe tbody tr th {\n",
              "        vertical-align: top;\n",
              "    }\n",
              "\n",
              "    .dataframe thead th {\n",
              "        text-align: right;\n",
              "    }\n",
              "</style>\n",
              "<table border=\"1\" class=\"dataframe\">\n",
              "  <thead>\n",
              "    <tr style=\"text-align: right;\">\n",
              "      <th></th>\n",
              "      <th>Order ID</th>\n",
              "      <th>Order Item ID</th>\n",
              "      <th>Order YearMonth</th>\n",
              "      <th>Order Year</th>\n",
              "      <th>Order Month</th>\n",
              "      <th>Order Day</th>\n",
              "      <th>Order Time</th>\n",
              "      <th>Order Quantity</th>\n",
              "      <th>Product Department</th>\n",
              "      <th>Product Category</th>\n",
              "      <th>...</th>\n",
              "      <th>Customer Country</th>\n",
              "      <th>Warehouse Country</th>\n",
              "      <th>Shipment Year</th>\n",
              "      <th>Shipment Month</th>\n",
              "      <th>Shipment Day</th>\n",
              "      <th>Shipment Mode</th>\n",
              "      <th>Shipment Days - Scheduled</th>\n",
              "      <th>Gross Sales</th>\n",
              "      <th>Discount %</th>\n",
              "      <th>Profit</th>\n",
              "    </tr>\n",
              "  </thead>\n",
              "  <tbody>\n",
              "    <tr>\n",
              "      <th>0</th>\n",
              "      <td>3535</td>\n",
              "      <td>8793</td>\n",
              "      <td>201502</td>\n",
              "      <td>2015</td>\n",
              "      <td>2</td>\n",
              "      <td>21</td>\n",
              "      <td>14:07</td>\n",
              "      <td>1</td>\n",
              "      <td>Fan Shop</td>\n",
              "      <td>Fishing</td>\n",
              "      <td>...</td>\n",
              "      <td>Mexico</td>\n",
              "      <td>Puerto Rico</td>\n",
              "      <td>2015</td>\n",
              "      <td>2</td>\n",
              "      <td>27</td>\n",
              "      <td>Standard Class</td>\n",
              "      <td>4</td>\n",
              "      <td>400</td>\n",
              "      <td>0.25</td>\n",
              "      <td>200</td>\n",
              "    </tr>\n",
              "    <tr>\n",
              "      <th>1</th>\n",
              "      <td>4133</td>\n",
              "      <td>10320</td>\n",
              "      <td>201503</td>\n",
              "      <td>2015</td>\n",
              "      <td>3</td>\n",
              "      <td>2</td>\n",
              "      <td>07:37</td>\n",
              "      <td>1</td>\n",
              "      <td>Fan Shop</td>\n",
              "      <td>Fishing</td>\n",
              "      <td>...</td>\n",
              "      <td>Brazil</td>\n",
              "      <td>Puerto Rico</td>\n",
              "      <td>2015</td>\n",
              "      <td>3</td>\n",
              "      <td>6</td>\n",
              "      <td>Standard Class</td>\n",
              "      <td>4</td>\n",
              "      <td>400</td>\n",
              "      <td>0.09</td>\n",
              "      <td>200</td>\n",
              "    </tr>\n",
              "    <tr>\n",
              "      <th>2</th>\n",
              "      <td>7396</td>\n",
              "      <td>18517</td>\n",
              "      <td>201504</td>\n",
              "      <td>2015</td>\n",
              "      <td>4</td>\n",
              "      <td>18</td>\n",
              "      <td>22:47</td>\n",
              "      <td>1</td>\n",
              "      <td>Fan Shop</td>\n",
              "      <td>Fishing</td>\n",
              "      <td>...</td>\n",
              "      <td>Mexico</td>\n",
              "      <td>Puerto Rico</td>\n",
              "      <td>2015</td>\n",
              "      <td>4</td>\n",
              "      <td>20</td>\n",
              "      <td>Standard Class</td>\n",
              "      <td>4</td>\n",
              "      <td>400</td>\n",
              "      <td>0.06</td>\n",
              "      <td>200</td>\n",
              "    </tr>\n",
              "    <tr>\n",
              "      <th>3</th>\n",
              "      <td>11026</td>\n",
              "      <td>27608</td>\n",
              "      <td>201506</td>\n",
              "      <td>2015</td>\n",
              "      <td>6</td>\n",
              "      <td>10</td>\n",
              "      <td>22:32</td>\n",
              "      <td>1</td>\n",
              "      <td>Fan Shop</td>\n",
              "      <td>Fishing</td>\n",
              "      <td>...</td>\n",
              "      <td>Denmark</td>\n",
              "      <td>Puerto Rico</td>\n",
              "      <td>2015</td>\n",
              "      <td>6</td>\n",
              "      <td>12</td>\n",
              "      <td>Standard Class</td>\n",
              "      <td>4</td>\n",
              "      <td>400</td>\n",
              "      <td>0.15</td>\n",
              "      <td>200</td>\n",
              "    </tr>\n",
              "    <tr>\n",
              "      <th>4</th>\n",
              "      <td>11026</td>\n",
              "      <td>27609</td>\n",
              "      <td>201506</td>\n",
              "      <td>2015</td>\n",
              "      <td>6</td>\n",
              "      <td>10</td>\n",
              "      <td>22:32</td>\n",
              "      <td>1</td>\n",
              "      <td>Fan Shop</td>\n",
              "      <td>Fishing</td>\n",
              "      <td>...</td>\n",
              "      <td>Denmark</td>\n",
              "      <td>Puerto Rico</td>\n",
              "      <td>2015</td>\n",
              "      <td>6</td>\n",
              "      <td>12</td>\n",
              "      <td>Standard Class</td>\n",
              "      <td>4</td>\n",
              "      <td>400</td>\n",
              "      <td>0.13</td>\n",
              "      <td>200</td>\n",
              "    </tr>\n",
              "    <tr>\n",
              "      <th>...</th>\n",
              "      <td>...</td>\n",
              "      <td>...</td>\n",
              "      <td>...</td>\n",
              "      <td>...</td>\n",
              "      <td>...</td>\n",
              "      <td>...</td>\n",
              "      <td>...</td>\n",
              "      <td>...</td>\n",
              "      <td>...</td>\n",
              "      <td>...</td>\n",
              "      <td>...</td>\n",
              "      <td>...</td>\n",
              "      <td>...</td>\n",
              "      <td>...</td>\n",
              "      <td>...</td>\n",
              "      <td>...</td>\n",
              "      <td>...</td>\n",
              "      <td>...</td>\n",
              "      <td>...</td>\n",
              "      <td>...</td>\n",
              "      <td>...</td>\n",
              "    </tr>\n",
              "    <tr>\n",
              "      <th>30866</th>\n",
              "      <td>73246</td>\n",
              "      <td>176561</td>\n",
              "      <td>201712</td>\n",
              "      <td>2017</td>\n",
              "      <td>12</td>\n",
              "      <td>5</td>\n",
              "      <td>04:59</td>\n",
              "      <td>1</td>\n",
              "      <td>Fan Shop</td>\n",
              "      <td>Toys</td>\n",
              "      <td>...</td>\n",
              "      <td>Australia</td>\n",
              "      <td>Puerto Rico</td>\n",
              "      <td>2017</td>\n",
              "      <td>12</td>\n",
              "      <td>11</td>\n",
              "      <td>Standard Class</td>\n",
              "      <td>4</td>\n",
              "      <td>12</td>\n",
              "      <td>0.06</td>\n",
              "      <td>6</td>\n",
              "    </tr>\n",
              "    <tr>\n",
              "      <th>30867</th>\n",
              "      <td>7908</td>\n",
              "      <td>19762</td>\n",
              "      <td>201504</td>\n",
              "      <td>2015</td>\n",
              "      <td>4</td>\n",
              "      <td>26</td>\n",
              "      <td>10:10</td>\n",
              "      <td>1</td>\n",
              "      <td>Fan Shop</td>\n",
              "      <td>Hunting &amp; Shooting</td>\n",
              "      <td>...</td>\n",
              "      <td>Paraguay</td>\n",
              "      <td>Puerto Rico</td>\n",
              "      <td>2015</td>\n",
              "      <td>4</td>\n",
              "      <td>30</td>\n",
              "      <td>Standard Class</td>\n",
              "      <td>4</td>\n",
              "      <td>30</td>\n",
              "      <td>0.12</td>\n",
              "      <td>68</td>\n",
              "    </tr>\n",
              "    <tr>\n",
              "      <th>30868</th>\n",
              "      <td>29326</td>\n",
              "      <td>73368</td>\n",
              "      <td>201603</td>\n",
              "      <td>2016</td>\n",
              "      <td>3</td>\n",
              "      <td>4</td>\n",
              "      <td>01:51</td>\n",
              "      <td>1</td>\n",
              "      <td>Fan Shop</td>\n",
              "      <td>Hunting &amp; Shooting</td>\n",
              "      <td>...</td>\n",
              "      <td>India</td>\n",
              "      <td>Puerto Rico</td>\n",
              "      <td>2016</td>\n",
              "      <td>3</td>\n",
              "      <td>6</td>\n",
              "      <td>Second Class</td>\n",
              "      <td>2</td>\n",
              "      <td>30</td>\n",
              "      <td>0.09</td>\n",
              "      <td>68</td>\n",
              "    </tr>\n",
              "    <tr>\n",
              "      <th>30869</th>\n",
              "      <td>63308</td>\n",
              "      <td>158284</td>\n",
              "      <td>201707</td>\n",
              "      <td>2017</td>\n",
              "      <td>7</td>\n",
              "      <td>13</td>\n",
              "      <td>03:15</td>\n",
              "      <td>1</td>\n",
              "      <td>Fan Shop</td>\n",
              "      <td>Hunting &amp; Shooting</td>\n",
              "      <td>...</td>\n",
              "      <td>Germany</td>\n",
              "      <td>Puerto Rico</td>\n",
              "      <td>2017</td>\n",
              "      <td>7</td>\n",
              "      <td>17</td>\n",
              "      <td>Second Class</td>\n",
              "      <td>2</td>\n",
              "      <td>150</td>\n",
              "      <td>0.02</td>\n",
              "      <td>60</td>\n",
              "    </tr>\n",
              "    <tr>\n",
              "      <th>30870</th>\n",
              "      <td>67951</td>\n",
              "      <td>169874</td>\n",
              "      <td>201709</td>\n",
              "      <td>2017</td>\n",
              "      <td>9</td>\n",
              "      <td>18</td>\n",
              "      <td>21:54</td>\n",
              "      <td>1</td>\n",
              "      <td>Fan Shop</td>\n",
              "      <td>Water Sports</td>\n",
              "      <td>...</td>\n",
              "      <td>Italy</td>\n",
              "      <td>Puerto Rico</td>\n",
              "      <td>2017</td>\n",
              "      <td>9</td>\n",
              "      <td>20</td>\n",
              "      <td>First Class</td>\n",
              "      <td>1</td>\n",
              "      <td>350</td>\n",
              "      <td>-</td>\n",
              "      <td>172</td>\n",
              "    </tr>\n",
              "  </tbody>\n",
              "</table>\n",
              "<p>30871 rows × 24 columns</p>\n",
              "</div>"
            ],
            "text/plain": [
              "        Order ID    Order Item ID    Order YearMonth    Order Year   \\\n",
              "0            3535             8793             201502          2015   \n",
              "1            4133            10320             201503          2015   \n",
              "2            7396            18517             201504          2015   \n",
              "3           11026            27608             201506          2015   \n",
              "4           11026            27609             201506          2015   \n",
              "...           ...              ...                ...           ...   \n",
              "30866       73246           176561             201712          2017   \n",
              "30867        7908            19762             201504          2015   \n",
              "30868       29326            73368             201603          2016   \n",
              "30869       63308           158284             201707          2017   \n",
              "30870       67951           169874             201709          2017   \n",
              "\n",
              "        Order Month    Order Day  Order Time  Order Quantity  \\\n",
              "0                  2           21      14:07               1   \n",
              "1                  3            2      07:37               1   \n",
              "2                  4           18      22:47               1   \n",
              "3                  6           10      22:32               1   \n",
              "4                  6           10      22:32               1   \n",
              "...              ...          ...        ...             ...   \n",
              "30866             12            5      04:59               1   \n",
              "30867              4           26      10:10               1   \n",
              "30868              3            4      01:51               1   \n",
              "30869              7           13      03:15               1   \n",
              "30870              9           18      21:54               1   \n",
              "\n",
              "      Product Department    Product Category  ... Customer Country  \\\n",
              "0               Fan Shop             Fishing  ...           Mexico   \n",
              "1               Fan Shop             Fishing  ...           Brazil   \n",
              "2               Fan Shop             Fishing  ...           Mexico   \n",
              "3               Fan Shop             Fishing  ...          Denmark   \n",
              "4               Fan Shop             Fishing  ...          Denmark   \n",
              "...                  ...                 ...  ...              ...   \n",
              "30866           Fan Shop                Toys  ...        Australia   \n",
              "30867           Fan Shop  Hunting & Shooting  ...         Paraguay   \n",
              "30868           Fan Shop  Hunting & Shooting  ...            India   \n",
              "30869           Fan Shop  Hunting & Shooting  ...          Germany   \n",
              "30870           Fan Shop        Water Sports  ...            Italy   \n",
              "\n",
              "       Warehouse Country Shipment Year Shipment Month Shipment Day  \\\n",
              "0            Puerto Rico          2015              2           27   \n",
              "1            Puerto Rico          2015              3            6   \n",
              "2            Puerto Rico          2015              4           20   \n",
              "3            Puerto Rico          2015              6           12   \n",
              "4            Puerto Rico          2015              6           12   \n",
              "...                  ...           ...            ...          ...   \n",
              "30866        Puerto Rico          2017             12           11   \n",
              "30867        Puerto Rico          2015              4           30   \n",
              "30868        Puerto Rico          2016              3            6   \n",
              "30869        Puerto Rico          2017              7           17   \n",
              "30870        Puerto Rico          2017              9           20   \n",
              "\n",
              "        Shipment Mode   Shipment Days - Scheduled    Gross Sales   \\\n",
              "0      Standard Class                            4            400   \n",
              "1      Standard Class                            4            400   \n",
              "2      Standard Class                            4            400   \n",
              "3      Standard Class                            4            400   \n",
              "4      Standard Class                            4            400   \n",
              "...               ...                          ...            ...   \n",
              "30866  Standard Class                            4             12   \n",
              "30867  Standard Class                            4             30   \n",
              "30868    Second Class                            2             30   \n",
              "30869    Second Class                            2            150   \n",
              "30870     First Class                            1            350   \n",
              "\n",
              "        Discount %   Profit   \n",
              "0              0.25      200  \n",
              "1              0.09      200  \n",
              "2              0.06      200  \n",
              "3              0.15      200  \n",
              "4              0.13      200  \n",
              "...             ...      ...  \n",
              "30866          0.06        6  \n",
              "30867          0.12       68  \n",
              "30868          0.09       68  \n",
              "30869          0.02       60  \n",
              "30870           -        172  \n",
              "\n",
              "[30871 rows x 24 columns]"
            ]
          },
          "execution_count": 3,
          "metadata": {},
          "output_type": "execute_result"
        }
      ],
      "source": [
        "df_orders"
      ]
    },
    {
      "cell_type": "code",
      "execution_count": 4,
      "metadata": {
        "colab": {
          "base_uri": "https://localhost:8080/",
          "height": 206
        },
        "id": "I5jZ20_fC27K",
        "outputId": "f5c3d975-94c7-4daf-e911-8b6a1f5115e5"
      },
      "outputs": [
        {
          "data": {
            "text/html": [
              "<div>\n",
              "<style scoped>\n",
              "    .dataframe tbody tr th:only-of-type {\n",
              "        vertical-align: middle;\n",
              "    }\n",
              "\n",
              "    .dataframe tbody tr th {\n",
              "        vertical-align: top;\n",
              "    }\n",
              "\n",
              "    .dataframe thead th {\n",
              "        text-align: right;\n",
              "    }\n",
              "</style>\n",
              "<table border=\"1\" class=\"dataframe\">\n",
              "  <thead>\n",
              "    <tr style=\"text-align: right;\">\n",
              "      <th></th>\n",
              "      <th>Product Name</th>\n",
              "      <th>Year Month</th>\n",
              "      <th>Warehouse Inventory</th>\n",
              "      <th>Inventory Cost Per Unit</th>\n",
              "    </tr>\n",
              "  </thead>\n",
              "  <tbody>\n",
              "    <tr>\n",
              "      <th>0</th>\n",
              "      <td>Perfect Fitness Perfect Rip Deck</td>\n",
              "      <td>201712</td>\n",
              "      <td>0</td>\n",
              "      <td>0.69517</td>\n",
              "    </tr>\n",
              "    <tr>\n",
              "      <th>1</th>\n",
              "      <td>Nike Men's Dri-FIT Victory Golf Polo</td>\n",
              "      <td>201712</td>\n",
              "      <td>2</td>\n",
              "      <td>1.29291</td>\n",
              "    </tr>\n",
              "    <tr>\n",
              "      <th>2</th>\n",
              "      <td>O'Brien Men's Neoprene Life Vest</td>\n",
              "      <td>201712</td>\n",
              "      <td>0</td>\n",
              "      <td>0.56531</td>\n",
              "    </tr>\n",
              "    <tr>\n",
              "      <th>3</th>\n",
              "      <td>Nike Men's Free 5.0+ Running Shoe</td>\n",
              "      <td>201712</td>\n",
              "      <td>1</td>\n",
              "      <td>1.26321</td>\n",
              "    </tr>\n",
              "    <tr>\n",
              "      <th>4</th>\n",
              "      <td>Under Armour Girls' Toddler Spine Surge Runni</td>\n",
              "      <td>201712</td>\n",
              "      <td>0</td>\n",
              "      <td>1.47648</td>\n",
              "    </tr>\n",
              "    <tr>\n",
              "      <th>...</th>\n",
              "      <td>...</td>\n",
              "      <td>...</td>\n",
              "      <td>...</td>\n",
              "      <td>...</td>\n",
              "    </tr>\n",
              "    <tr>\n",
              "      <th>4195</th>\n",
              "      <td>TaylorMade 2017 Purelite Stand Bag</td>\n",
              "      <td>201501</td>\n",
              "      <td>0</td>\n",
              "      <td>1.44662</td>\n",
              "    </tr>\n",
              "    <tr>\n",
              "      <th>4196</th>\n",
              "      <td>Ogio Race Golf Shoes</td>\n",
              "      <td>201501</td>\n",
              "      <td>0</td>\n",
              "      <td>0.10310</td>\n",
              "    </tr>\n",
              "    <tr>\n",
              "      <th>4197</th>\n",
              "      <td>GolfBuddy VT3 GPS Watch</td>\n",
              "      <td>201501</td>\n",
              "      <td>0</td>\n",
              "      <td>1.77747</td>\n",
              "    </tr>\n",
              "    <tr>\n",
              "      <th>4198</th>\n",
              "      <td>Titleist Small Wheeled Travel Cover</td>\n",
              "      <td>201501</td>\n",
              "      <td>0</td>\n",
              "      <td>0.15244</td>\n",
              "    </tr>\n",
              "    <tr>\n",
              "      <th>4199</th>\n",
              "      <td>Polar Loop Activity Tracker</td>\n",
              "      <td>201501</td>\n",
              "      <td>1</td>\n",
              "      <td>0.88259</td>\n",
              "    </tr>\n",
              "  </tbody>\n",
              "</table>\n",
              "<p>4200 rows × 4 columns</p>\n",
              "</div>"
            ],
            "text/plain": [
              "                                       Product Name   Year Month   \\\n",
              "0                  Perfect Fitness Perfect Rip Deck        201712   \n",
              "1              Nike Men's Dri-FIT Victory Golf Polo        201712   \n",
              "2                  O'Brien Men's Neoprene Life Vest        201712   \n",
              "3                 Nike Men's Free 5.0+ Running Shoe        201712   \n",
              "4     Under Armour Girls' Toddler Spine Surge Runni        201712   \n",
              "...                                             ...           ...   \n",
              "4195             TaylorMade 2017 Purelite Stand Bag        201501   \n",
              "4196                           Ogio Race Golf Shoes        201501   \n",
              "4197                        GolfBuddy VT3 GPS Watch        201501   \n",
              "4198            Titleist Small Wheeled Travel Cover        201501   \n",
              "4199                    Polar Loop Activity Tracker        201501   \n",
              "\n",
              "       Warehouse Inventory   Inventory Cost Per Unit  \n",
              "0                         0                  0.69517  \n",
              "1                         2                  1.29291  \n",
              "2                         0                  0.56531  \n",
              "3                         1                  1.26321  \n",
              "4                         0                  1.47648  \n",
              "...                     ...                      ...  \n",
              "4195                      0                  1.44662  \n",
              "4196                      0                  0.10310  \n",
              "4197                      0                  1.77747  \n",
              "4198                      0                  0.15244  \n",
              "4199                      1                  0.88259  \n",
              "\n",
              "[4200 rows x 4 columns]"
            ]
          },
          "execution_count": 4,
          "metadata": {},
          "output_type": "execute_result"
        }
      ],
      "source": [
        "df_inventory"
      ]
    },
    {
      "cell_type": "code",
      "execution_count": 5,
      "metadata": {
        "colab": {
          "base_uri": "https://localhost:8080/",
          "height": 206
        },
        "id": "g9kzILWyC6Z7",
        "outputId": "7358bf11-9a03-4c60-f2c8-a0ee246d7a23"
      },
      "outputs": [
        {
          "data": {
            "text/html": [
              "<div>\n",
              "<style scoped>\n",
              "    .dataframe tbody tr th:only-of-type {\n",
              "        vertical-align: middle;\n",
              "    }\n",
              "\n",
              "    .dataframe tbody tr th {\n",
              "        vertical-align: top;\n",
              "    }\n",
              "\n",
              "    .dataframe thead th {\n",
              "        text-align: right;\n",
              "    }\n",
              "</style>\n",
              "<table border=\"1\" class=\"dataframe\">\n",
              "  <thead>\n",
              "    <tr style=\"text-align: right;\">\n",
              "      <th></th>\n",
              "      <th>Product Name</th>\n",
              "      <th>Warehouse Order Fulfillment (days)</th>\n",
              "    </tr>\n",
              "  </thead>\n",
              "  <tbody>\n",
              "    <tr>\n",
              "      <th>0</th>\n",
              "      <td>Perfect Fitness Perfect Rip Deck</td>\n",
              "      <td>8.3</td>\n",
              "    </tr>\n",
              "    <tr>\n",
              "      <th>1</th>\n",
              "      <td>Nike Men's Dri-FIT Victory Golf Polo</td>\n",
              "      <td>6.6</td>\n",
              "    </tr>\n",
              "    <tr>\n",
              "      <th>2</th>\n",
              "      <td>O'Brien Men's Neoprene Life Vest</td>\n",
              "      <td>5.5</td>\n",
              "    </tr>\n",
              "    <tr>\n",
              "      <th>3</th>\n",
              "      <td>Nike Men's Free 5.0+ Running Shoe</td>\n",
              "      <td>9.4</td>\n",
              "    </tr>\n",
              "    <tr>\n",
              "      <th>4</th>\n",
              "      <td>Under Armour Girls' Toddler Spine Surge Runni</td>\n",
              "      <td>6.3</td>\n",
              "    </tr>\n",
              "    <tr>\n",
              "      <th>...</th>\n",
              "      <td>...</td>\n",
              "      <td>...</td>\n",
              "    </tr>\n",
              "    <tr>\n",
              "      <th>113</th>\n",
              "      <td>Stiga Master Series ST3100 Competition Indoor</td>\n",
              "      <td>4.7</td>\n",
              "    </tr>\n",
              "    <tr>\n",
              "      <th>114</th>\n",
              "      <td>SOLE E35 Elliptical</td>\n",
              "      <td>1.9</td>\n",
              "    </tr>\n",
              "    <tr>\n",
              "      <th>115</th>\n",
              "      <td>Bushnell Pro X7 Jolt Slope Rangefinder</td>\n",
              "      <td>2.0</td>\n",
              "    </tr>\n",
              "    <tr>\n",
              "      <th>116</th>\n",
              "      <td>SOLE E25 Elliptical</td>\n",
              "      <td>2.1</td>\n",
              "    </tr>\n",
              "    <tr>\n",
              "      <th>117</th>\n",
              "      <td>Bowflex SelectTech 1090 Dumbbells</td>\n",
              "      <td>7.7</td>\n",
              "    </tr>\n",
              "  </tbody>\n",
              "</table>\n",
              "<p>118 rows × 2 columns</p>\n",
              "</div>"
            ],
            "text/plain": [
              "                                      Product Name  \\\n",
              "0                 Perfect Fitness Perfect Rip Deck   \n",
              "1             Nike Men's Dri-FIT Victory Golf Polo   \n",
              "2                 O'Brien Men's Neoprene Life Vest   \n",
              "3                Nike Men's Free 5.0+ Running Shoe   \n",
              "4    Under Armour Girls' Toddler Spine Surge Runni   \n",
              "..                                             ...   \n",
              "113  Stiga Master Series ST3100 Competition Indoor   \n",
              "114                            SOLE E35 Elliptical   \n",
              "115         Bushnell Pro X7 Jolt Slope Rangefinder   \n",
              "116                            SOLE E25 Elliptical   \n",
              "117              Bowflex SelectTech 1090 Dumbbells   \n",
              "\n",
              "      Warehouse Order Fulfillment (days)   \n",
              "0                                     8.3  \n",
              "1                                     6.6  \n",
              "2                                     5.5  \n",
              "3                                     9.4  \n",
              "4                                     6.3  \n",
              "..                                    ...  \n",
              "113                                   4.7  \n",
              "114                                   1.9  \n",
              "115                                   2.0  \n",
              "116                                   2.1  \n",
              "117                                   7.7  \n",
              "\n",
              "[118 rows x 2 columns]"
            ]
          },
          "execution_count": 5,
          "metadata": {},
          "output_type": "execute_result"
        }
      ],
      "source": [
        "df_fulfillment"
      ]
    },
    {
      "cell_type": "markdown",
      "metadata": {
        "id": "e9aP1k8FbQYh"
      },
      "source": [
        "# **Data Cleaning**"
      ]
    },
    {
      "cell_type": "markdown",
      "metadata": {
        "id": "l-JSmTVlbZqz"
      },
      "source": [
        "## Handling Missing Value"
      ]
    },
    {
      "cell_type": "code",
      "execution_count": 6,
      "metadata": {
        "colab": {
          "base_uri": "https://localhost:8080/"
        },
        "id": "ACBZbcGUbR_S",
        "outputId": "bc5c0893-ca8c-4ad7-d58c-ea9f47e846ae"
      },
      "outputs": [
        {
          "data": {
            "text/plain": [
              " Order ID                      0\n",
              " Order Item ID                 0\n",
              " Order YearMonth               0\n",
              " Order Year                    0\n",
              " Order Month                   0\n",
              " Order Day                     0\n",
              "Order Time                     0\n",
              "Order Quantity                 0\n",
              "Product Department             0\n",
              "Product Category               0\n",
              "Product Name                   0\n",
              " Customer ID                   0\n",
              "Customer Market                0\n",
              "Customer Region                0\n",
              "Customer Country               0\n",
              "Warehouse Country              0\n",
              "Shipment Year                  0\n",
              "Shipment Month                 0\n",
              "Shipment Day                   0\n",
              "Shipment Mode                  0\n",
              " Shipment Days - Scheduled     0\n",
              " Gross Sales                   0\n",
              " Discount %                    0\n",
              " Profit                        0\n",
              "dtype: int64"
            ]
          },
          "execution_count": 6,
          "metadata": {},
          "output_type": "execute_result"
        }
      ],
      "source": [
        "df_orders.isna().sum()"
      ]
    },
    {
      "cell_type": "code",
      "execution_count": 7,
      "metadata": {
        "colab": {
          "base_uri": "https://localhost:8080/"
        },
        "id": "AbV1Qb1GbpSF",
        "outputId": "2e8ec046-8716-452f-cc44-8c44ac1a06ee"
      },
      "outputs": [
        {
          "data": {
            "text/plain": [
              "Product Name               0\n",
              " Year Month                0\n",
              " Warehouse Inventory       0\n",
              "Inventory Cost Per Unit    0\n",
              "dtype: int64"
            ]
          },
          "execution_count": 7,
          "metadata": {},
          "output_type": "execute_result"
        }
      ],
      "source": [
        "df_inventory.isna().sum()"
      ]
    },
    {
      "cell_type": "code",
      "execution_count": 8,
      "metadata": {
        "colab": {
          "base_uri": "https://localhost:8080/"
        },
        "id": "BrLYGPqPbuDy",
        "outputId": "9faf0ece-d3f2-4d44-d3a8-599535d36057"
      },
      "outputs": [
        {
          "data": {
            "text/plain": [
              "Product Name                            0\n",
              " Warehouse Order Fulfillment (days)     0\n",
              "dtype: int64"
            ]
          },
          "execution_count": 8,
          "metadata": {},
          "output_type": "execute_result"
        }
      ],
      "source": [
        "df_fulfillment.isna().sum()"
      ]
    },
    {
      "cell_type": "markdown",
      "metadata": {
        "id": "9H67p-6GuIWk"
      },
      "source": [
        "## Duplicated Data"
      ]
    },
    {
      "cell_type": "code",
      "execution_count": 9,
      "metadata": {
        "colab": {
          "base_uri": "https://localhost:8080/"
        },
        "id": "ea8BLTrOuvbs",
        "outputId": "874bcfcb-3c82-41f8-bf87-d3b2cb333883"
      },
      "outputs": [
        {
          "data": {
            "text/plain": [
              "0"
            ]
          },
          "execution_count": 9,
          "metadata": {},
          "output_type": "execute_result"
        }
      ],
      "source": [
        "df_orders.duplicated().sum()"
      ]
    },
    {
      "cell_type": "code",
      "execution_count": 10,
      "metadata": {
        "colab": {
          "base_uri": "https://localhost:8080/"
        },
        "id": "intdBkDcucxH",
        "outputId": "3ed35b97-30a9-40cb-90ea-b40d27fda8bc"
      },
      "outputs": [
        {
          "data": {
            "text/plain": [
              "0"
            ]
          },
          "execution_count": 10,
          "metadata": {},
          "output_type": "execute_result"
        }
      ],
      "source": [
        "df_inventory.duplicated().sum()"
      ]
    },
    {
      "cell_type": "code",
      "execution_count": 11,
      "metadata": {
        "colab": {
          "base_uri": "https://localhost:8080/"
        },
        "id": "5RfKcWoVu6Hq",
        "outputId": "b1c365f7-53f6-4ae2-efdc-48ba7d2bf328"
      },
      "outputs": [
        {
          "data": {
            "text/plain": [
              "0"
            ]
          },
          "execution_count": 11,
          "metadata": {},
          "output_type": "execute_result"
        }
      ],
      "source": [
        "df_fulfillment.duplicated().sum()"
      ]
    },
    {
      "cell_type": "markdown",
      "metadata": {
        "id": "clsxJa3Kcq_o"
      },
      "source": [
        "# **Data Wrangling**"
      ]
    },
    {
      "cell_type": "markdown",
      "metadata": {
        "id": "BCGXvUa4piEA"
      },
      "source": [
        "## Leading and Trailing Space"
      ]
    },
    {
      "cell_type": "code",
      "execution_count": 12,
      "metadata": {
        "colab": {
          "base_uri": "https://localhost:8080/"
        },
        "id": "01kvT6UniO1C",
        "outputId": "b21ea21c-7320-443a-e8d3-aa9f59c479df"
      },
      "outputs": [
        {
          "name": "stdout",
          "output_type": "stream",
          "text": [
            "<class 'pandas.core.frame.DataFrame'>\n",
            "RangeIndex: 30871 entries, 0 to 30870\n",
            "Data columns (total 24 columns):\n",
            " #   Column                       Non-Null Count  Dtype \n",
            "---  ------                       --------------  ----- \n",
            " 0    Order ID                    30871 non-null  int64 \n",
            " 1    Order Item ID               30871 non-null  int64 \n",
            " 2    Order YearMonth             30871 non-null  int64 \n",
            " 3    Order Year                  30871 non-null  int64 \n",
            " 4    Order Month                 30871 non-null  int64 \n",
            " 5    Order Day                   30871 non-null  int64 \n",
            " 6   Order Time                   30871 non-null  object\n",
            " 7   Order Quantity               30871 non-null  int64 \n",
            " 8   Product Department           30871 non-null  object\n",
            " 9   Product Category             30871 non-null  object\n",
            " 10  Product Name                 30871 non-null  object\n",
            " 11   Customer ID                 30871 non-null  int64 \n",
            " 12  Customer Market              30871 non-null  object\n",
            " 13  Customer Region              30871 non-null  object\n",
            " 14  Customer Country             30871 non-null  object\n",
            " 15  Warehouse Country            30871 non-null  object\n",
            " 16  Shipment Year                30871 non-null  int64 \n",
            " 17  Shipment Month               30871 non-null  int64 \n",
            " 18  Shipment Day                 30871 non-null  int64 \n",
            " 19  Shipment Mode                30871 non-null  object\n",
            " 20   Shipment Days - Scheduled   30871 non-null  int64 \n",
            " 21   Gross Sales                 30871 non-null  int64 \n",
            " 22   Discount %                  30871 non-null  object\n",
            " 23   Profit                      30871 non-null  int64 \n",
            "dtypes: int64(14), object(10)\n",
            "memory usage: 5.7+ MB\n"
          ]
        }
      ],
      "source": [
        "df_orders.info()"
      ]
    },
    {
      "cell_type": "code",
      "execution_count": 13,
      "metadata": {
        "colab": {
          "base_uri": "https://localhost:8080/"
        },
        "id": "JF_kk5w9OBHx",
        "outputId": "24e046f4-7363-4ea3-e47c-9a23e41a20be"
      },
      "outputs": [
        {
          "name": "stdout",
          "output_type": "stream",
          "text": [
            "<class 'pandas.core.frame.DataFrame'>\n",
            "RangeIndex: 4200 entries, 0 to 4199\n",
            "Data columns (total 4 columns):\n",
            " #   Column                   Non-Null Count  Dtype  \n",
            "---  ------                   --------------  -----  \n",
            " 0   Product Name             4200 non-null   object \n",
            " 1    Year Month              4200 non-null   int64  \n",
            " 2    Warehouse Inventory     4200 non-null   int64  \n",
            " 3   Inventory Cost Per Unit  4200 non-null   float64\n",
            "dtypes: float64(1), int64(2), object(1)\n",
            "memory usage: 131.4+ KB\n"
          ]
        }
      ],
      "source": [
        "df_inventory.info()"
      ]
    },
    {
      "cell_type": "code",
      "execution_count": 14,
      "metadata": {
        "colab": {
          "base_uri": "https://localhost:8080/"
        },
        "id": "LQ15zTHaOFww",
        "outputId": "63ef7013-899d-4e83-f9cf-7c34c329e011"
      },
      "outputs": [
        {
          "name": "stdout",
          "output_type": "stream",
          "text": [
            "<class 'pandas.core.frame.DataFrame'>\n",
            "RangeIndex: 118 entries, 0 to 117\n",
            "Data columns (total 2 columns):\n",
            " #   Column                                Non-Null Count  Dtype  \n",
            "---  ------                                --------------  -----  \n",
            " 0   Product Name                          118 non-null    object \n",
            " 1    Warehouse Order Fulfillment (days)   118 non-null    float64\n",
            "dtypes: float64(1), object(1)\n",
            "memory usage: 2.0+ KB\n"
          ]
        }
      ],
      "source": [
        "df_fulfillment.info()"
      ]
    },
    {
      "cell_type": "code",
      "execution_count": 15,
      "metadata": {
        "id": "RGVCF3Axihgg"
      },
      "outputs": [],
      "source": [
        "# using strip fn removing unwanted spaces from columns name\n",
        "dataframes = [df_inventory, df_orders, df_fulfillment]\n",
        "\n",
        "for df in dataframes:\n",
        "  df.columns = df.columns.str.strip()"
      ]
    },
    {
      "cell_type": "code",
      "execution_count": 16,
      "metadata": {
        "colab": {
          "base_uri": "https://localhost:8080/"
        },
        "id": "QvKo71V9Ocj3",
        "outputId": "57835e63-6cab-4372-b896-7e4b08cb3283"
      },
      "outputs": [
        {
          "data": {
            "text/plain": [
              "Index(['Order ID', 'Order Item ID', 'Order YearMonth', 'Order Year',\n",
              "       'Order Month', 'Order Day', 'Order Time', 'Order Quantity',\n",
              "       'Product Department', 'Product Category', 'Product Name', 'Customer ID',\n",
              "       'Customer Market', 'Customer Region', 'Customer Country',\n",
              "       'Warehouse Country', 'Shipment Year', 'Shipment Month', 'Shipment Day',\n",
              "       'Shipment Mode', 'Shipment Days - Scheduled', 'Gross Sales',\n",
              "       'Discount %', 'Profit'],\n",
              "      dtype='object')"
            ]
          },
          "execution_count": 16,
          "metadata": {},
          "output_type": "execute_result"
        }
      ],
      "source": [
        "df_orders.columns"
      ]
    },
    {
      "cell_type": "code",
      "execution_count": 17,
      "metadata": {
        "colab": {
          "base_uri": "https://localhost:8080/"
        },
        "id": "I4-sFrZlPAIc",
        "outputId": "0d03d32e-8fb2-4130-a076-3fa63bd83c1b"
      },
      "outputs": [
        {
          "data": {
            "text/plain": [
              "Index(['Product Name', 'Year Month', 'Warehouse Inventory',\n",
              "       'Inventory Cost Per Unit'],\n",
              "      dtype='object')"
            ]
          },
          "execution_count": 17,
          "metadata": {},
          "output_type": "execute_result"
        }
      ],
      "source": [
        "df_inventory.columns"
      ]
    },
    {
      "cell_type": "code",
      "execution_count": 18,
      "metadata": {
        "colab": {
          "base_uri": "https://localhost:8080/"
        },
        "id": "upikotyhPDwr",
        "outputId": "a9212012-43f3-470f-e4f3-3479ee431005"
      },
      "outputs": [
        {
          "data": {
            "text/plain": [
              "Index(['Product Name', 'Warehouse Order Fulfillment (days)'], dtype='object')"
            ]
          },
          "execution_count": 18,
          "metadata": {},
          "output_type": "execute_result"
        }
      ],
      "source": [
        "df_fulfillment.columns"
      ]
    },
    {
      "cell_type": "code",
      "execution_count": 19,
      "metadata": {
        "colab": {
          "base_uri": "https://localhost:8080/"
        },
        "id": "eSBwtK8iFWWi",
        "outputId": "558c3d3d-212c-4ff9-915e-311db5f87ce5"
      },
      "outputs": [
        {
          "data": {
            "text/plain": [
              "Index(['Order ID', 'Order Item ID', 'Order YearMonth', 'Order Year',\n",
              "       'Order Month', 'Order Day', 'Order Time', 'Order Quantity',\n",
              "       'Product Department', 'Product Category', 'Product Name', 'Customer ID',\n",
              "       'Customer Market', 'Customer Region', 'Customer Country',\n",
              "       'Warehouse Country', 'Shipment Year', 'Shipment Month', 'Shipment Day',\n",
              "       'Shipment Mode', 'Shipment Days - Scheduled', 'Gross Sales',\n",
              "       'Discount %', 'Profit'],\n",
              "      dtype='object')"
            ]
          },
          "execution_count": 19,
          "metadata": {},
          "output_type": "execute_result"
        }
      ],
      "source": [
        "df_orders.columns"
      ]
    },
    {
      "cell_type": "code",
      "execution_count": 20,
      "metadata": {
        "colab": {
          "base_uri": "https://localhost:8080/"
        },
        "id": "CDsRQ3bbFbmv",
        "outputId": "d3854f26-c554-4e74-de0f-03f7460f8c05"
      },
      "outputs": [
        {
          "data": {
            "text/plain": [
              "19468     0.15\n",
              "5158      0.09\n",
              "13497     0.15\n",
              "20055     0.12\n",
              "21566     0.03\n",
              "7189       0.1\n",
              "932       0.18\n",
              "6458      0.07\n",
              "5083      0.03\n",
              "15859      0.1\n",
              "16499     0.12\n",
              "22516     0.07\n",
              "16889      0.1\n",
              "24578     0.12\n",
              "23427     0.02\n",
              "30706     0.04\n",
              "30121     0.13\n",
              "4673       0.2\n",
              "1980      0.06\n",
              "11320     0.07\n",
              "14408     0.18\n",
              "18376     0.05\n",
              "12459     0.06\n",
              "8666      0.02\n",
              "24843      -  \n",
              "12797     0.06\n",
              "22471     0.06\n",
              "9156      0.15\n",
              "15006     0.04\n",
              "27952     0.17\n",
              "Name: Discount %, dtype: object"
            ]
          },
          "execution_count": 20,
          "metadata": {},
          "output_type": "execute_result"
        }
      ],
      "source": [
        "df_orders['Discount %'].sample(30)"
      ]
    },
    {
      "cell_type": "code",
      "execution_count": 21,
      "metadata": {
        "id": "sD82QbdlnLxK"
      },
      "outputs": [],
      "source": [
        "# Convert the '-' values to 0 in the 'Discount %' column and then change the data type from object to float\n",
        "df_orders['Discount %'] = df_orders['Discount %'].replace('  -  ', 0).astype(float)"
      ]
    },
    {
      "cell_type": "code",
      "execution_count": 22,
      "metadata": {
        "colab": {
          "base_uri": "https://localhost:8080/"
        },
        "id": "hEquwTd44fJq",
        "outputId": "5151a342-f3c0-4a40-c5da-c43680edfa27"
      },
      "outputs": [
        {
          "data": {
            "text/plain": [
              "Index(['Order ID', 'Order Item ID', 'Order YearMonth', 'Order Year',\n",
              "       'Order Month', 'Order Day', 'Order Time', 'Order Quantity',\n",
              "       'Product Department', 'Product Category', 'Product Name', 'Customer ID',\n",
              "       'Customer Market', 'Customer Region', 'Customer Country',\n",
              "       'Warehouse Country', 'Shipment Year', 'Shipment Month', 'Shipment Day',\n",
              "       'Shipment Mode', 'Shipment Days - Scheduled', 'Gross Sales',\n",
              "       'Discount %', 'Profit'],\n",
              "      dtype='object')"
            ]
          },
          "execution_count": 22,
          "metadata": {},
          "output_type": "execute_result"
        }
      ],
      "source": [
        "df_orders.columns"
      ]
    },
    {
      "cell_type": "markdown",
      "metadata": {
        "id": "Tfs-hGuCzr2w"
      },
      "source": [
        "## Feature Engineering :"
      ]
    },
    {
      "cell_type": "markdown",
      "metadata": {
        "id": "RneI8jotrwI_"
      },
      "source": [
        "### Removing unwanted characters in country name"
      ]
    },
    {
      "cell_type": "code",
      "execution_count": 23,
      "metadata": {
        "colab": {
          "base_uri": "https://localhost:8080/"
        },
        "id": "fYyxYc_x4MIF",
        "outputId": "a8cdca06-1d73-4b01-8e90-ae646c4122b1"
      },
      "outputs": [
        {
          "data": {
            "text/plain": [
              "array(['Mexico', 'Brazil', 'Denmark', 'Netherlands', 'Germany', 'China',\n",
              "       'Indonesia', 'Pakistan', 'India', 'USA', 'Hungary', 'Sudan',\n",
              "       'Democratic Republic of Congo', 'Poland', 'Togo', 'Guatemala',\n",
              "       'Panama', 'Chile', 'France', 'Sweden', 'Dominican\\xa0Republic',\n",
              "       'Venezuela', 'South Korea', 'Madagascar', 'Iran', 'Cuba',\n",
              "       'Nicaragua', 'United Kingdom', 'Afghanistan', 'Singapore',\n",
              "       'Morocco', 'Spain', 'Niger', 'Turkey', 'South Africa', 'Iraq',\n",
              "       'Honduras', 'Italy', 'Australia', 'Cote d\\x92Ivoire', 'Croatia',\n",
              "       'Ecuador', 'Syria', 'Haiti', 'Bangladesh', 'Argentina', 'Romania',\n",
              "       'El Salvador', 'Vietnam', 'Japan', 'Nigeria', 'Belarus',\n",
              "       'Uzbekistan', 'Egypt', 'Albania', 'Georgia', 'Cameroon',\n",
              "       'Colombia', 'New zealand', 'Canada', 'Thailand', 'Senegal',\n",
              "       'Russia', 'Perú', 'Algeria\\xa0', 'Ukraine', 'Belgium',\n",
              "       'Philippines', 'Austria', 'Uruguay', 'Malaysia', 'Hong Kong',\n",
              "       'Saudi Arabia', 'Switzerland', 'Ireland', 'Bulgaria', 'Zambia',\n",
              "       'Jamaica', 'Ghana', 'Yemen', 'Norway', 'Tanzania', 'Kazakhstan',\n",
              "       'Libya', 'Trinidad and Tobago', 'Finland', 'Portugal', 'Kenya',\n",
              "       'Jordania', 'Bolivia', 'Gabon', 'Angola', 'Myanmar', 'Mali', 'UAE',\n",
              "       'Bosnia and Herzegovina', 'Guinea', 'Cambodia', 'Papua New Guinea',\n",
              "       'Rwanda', 'Israel\\xa0', 'Guyana', 'Somalia', 'Barbados',\n",
              "       'Guadalupe', 'Kyrgyzstan', 'Benín', 'Tunisia', 'Lithuania',\n",
              "       'Montenegro', 'Costa Rica', 'Mozambique', 'Sri Lanka', 'Taiwan',\n",
              "       'Czech Republic (Czechia)', 'Lesotho', 'Mongolia', 'Macedonia',\n",
              "       'Zimbabwe', 'Liberia', 'Liban', 'Guinea-Bissau', 'Estonia',\n",
              "       'Azerbaijan', 'Moldova', 'Republic of Congo', 'Gambia',\n",
              "       'Mauritania', 'Belize', 'Qatar', 'Sierra Leona', 'Slovakia',\n",
              "       'Martinique', 'Uganda', 'Namibia', 'Paraguay', 'Oman',\n",
              "       'French Guiana', 'Nepal'], dtype=object)"
            ]
          },
          "execution_count": 23,
          "metadata": {},
          "output_type": "execute_result"
        }
      ],
      "source": [
        "df_orders['Customer Country'].unique()"
      ]
    },
    {
      "cell_type": "code",
      "execution_count": 24,
      "metadata": {
        "colab": {
          "base_uri": "https://localhost:8080/"
        },
        "id": "mCUPxlQe5P61",
        "outputId": "396da81c-cc14-41f7-c0e6-d27533438d40"
      },
      "outputs": [
        {
          "data": {
            "text/plain": [
              "array(['Mexico', 'Brazil', 'Denmark', 'Netherlands', 'Germany', 'China',\n",
              "       'Indonesia', 'Pakistan', 'India', 'USA', 'Hungary', 'Sudan',\n",
              "       'Democratic Republic of Congo', 'Poland', 'Togo', 'Guatemala',\n",
              "       'Panama', 'Chile', 'France', 'Sweden', 'Dominican Republic',\n",
              "       'Venezuela', 'South Korea', 'Madagascar', 'Iran', 'Cuba',\n",
              "       'Nicaragua', 'United Kingdom', 'Afghanistan', 'Singapore',\n",
              "       'Morocco', 'Spain', 'Niger', 'Turkey', 'South Africa', 'Iraq',\n",
              "       'Honduras', 'Italy', 'Australia', 'Cote d Ivoire', 'Croatia',\n",
              "       'Ecuador', 'Syria', 'Haiti', 'Bangladesh', 'Argentina', 'Romania',\n",
              "       'El Salvador', 'Vietnam', 'Japan', 'Nigeria', 'Belarus',\n",
              "       'Uzbekistan', 'Egypt', 'Albania', 'Georgia', 'Cameroon',\n",
              "       'Colombia', 'New zealand', 'Canada', 'Thailand', 'Senegal',\n",
              "       'Russia', 'Perú', 'Algeria', 'Ukraine', 'Belgium', 'Philippines',\n",
              "       'Austria', 'Uruguay', 'Malaysia', 'Hong Kong', 'Saudi Arabia',\n",
              "       'Switzerland', 'Ireland', 'Bulgaria', 'Zambia', 'Jamaica', 'Ghana',\n",
              "       'Yemen', 'Norway', 'Tanzania', 'Kazakhstan', 'Libya',\n",
              "       'Trinidad and Tobago', 'Finland', 'Portugal', 'Kenya', 'Jordania',\n",
              "       'Bolivia', 'Gabon', 'Angola', 'Myanmar', 'Mali', 'UAE',\n",
              "       'Bosnia and Herzegovina', 'Guinea', 'Cambodia', 'Papua New Guinea',\n",
              "       'Rwanda', 'Israel', 'Guyana', 'Somalia', 'Barbados', 'Guadalupe',\n",
              "       'Kyrgyzstan', 'Benin', 'Tunisia', 'Lithuania', 'Montenegro',\n",
              "       'Costa Rica', 'Mozambique', 'Sri Lanka', 'Taiwan',\n",
              "       'Czech Republic (Czechia)', 'Lesotho', 'Mongolia', 'Macedonia',\n",
              "       'Zimbabwe', 'Liberia', 'Liban', 'Guinea-Bissau', 'Estonia',\n",
              "       'Azerbaijan', 'Moldova', 'Republic of Congo', 'Gambia',\n",
              "       'Mauritania', 'Belize', 'Qatar', 'Sierra Leona', 'Slovakia',\n",
              "       'Martinique', 'Uganda', 'Namibia', 'Paraguay', 'Oman',\n",
              "       'French Guiana', 'Nepal'], dtype=object)"
            ]
          },
          "execution_count": 24,
          "metadata": {},
          "output_type": "execute_result"
        }
      ],
      "source": [
        "#replace the special characters in the Customer Country column\n",
        "df_orders['Customer Country'] = df_orders['Customer Country'].replace({\n",
        "    'Dominican\\xa0Republic': 'Dominican Republic',\n",
        "    'Cote d\\x92Ivoire': 'Cote d Ivoire',\n",
        "    'Algeria\\xa0': 'Algeria',\n",
        "    'Israel\\xa0':'Israel',\n",
        "    'Benín': 'Benin'\n",
        "})\n",
        "df_orders['Customer Country'].unique()"
      ]
    },
    {
      "cell_type": "markdown",
      "metadata": {
        "id": "yNB5-AE47aH1"
      },
      "source": [
        "# **Data Manipulation**"
      ]
    },
    {
      "cell_type": "markdown",
      "metadata": {
        "id": "5ezj5FwLjSYD"
      },
      "source": [
        "## Feature Metrics\n",
        "The feature metrics that planning to create in tableau which helps to further analyze inventory management, Shipement delay and many more."
      ]
    },
    {
      "cell_type": "markdown",
      "metadata": {
        "id": "Hn9rYugrm-WM"
      },
      "source": [
        "### Total Inventory Storage Cost\n",
        "\n",
        "Total Cost of Inventory is a significant financial metric in supply chain management that calculates the overall cost associated with holding and managing inventory.\n",
        "\n",
        "The formula for calculating Total Inventory Cost is: `Warehouse Inventory` times `Inventory Cost per Unit`.\n",
        "\n",
        "#### Storage Cost\n",
        "Storage_Cost = [Inventory Cost Per Unit]*[Warehouse Inventory]\n",
        "\n",
        "### Shipment Delay\n",
        "Shipment Delay is a metric that measures the time difference between the expected shipment date and the actual date that the order is delivered to the customer. This helps identify and measure the efficiency and reliability of the shipping processes.\n",
        "\n",
        "The calculation of Shipment Delay involves comparing the `Shipment Days - Actual` (actual date the order is shipped) with the `Shipment Days - Scheduled` (the expected or planned date of shipment).\n",
        "\n",
        "### Profit Margin\n",
        "Profit Margin helps to assessing the profitability of the supply chain operations. It provides insights into the effectiveness of cost control and pricing strategies, enabling organizations to make adjustments to enhance overall profitability.\n",
        "Profit Margin : Total Profit / Total Gross Sales *100\n",
        "\n",
        "### Inventory to Sales\n",
        "This is metric which indicating how efficiently inventory is managed and whether there may be overstocking or understocking issues, allowing for more informed decisions to optimize inventory levels.\n",
        "Inventory to Sales Delta = Total Warehouse Inventory - Total Order Quantity\n",
        "\n",
        "### Under or Overstock\n",
        "Under or Overstock helps to find which products are Overstock and which are understock.\n",
        "And it helps to the balance of inventory.\n",
        "\n",
        "Under or Overstock = Inventory to Sales Delta >0 THEN 'Overstock'\n",
        "ELSE 'Understock'"
      ]
    },
    {
      "cell_type": "markdown",
      "metadata": {
        "id": "AS_tFP1ZfsQ8"
      },
      "source": [
        "# **Data Exporting & Conclusion**"
      ]
    },
    {
      "cell_type": "code",
      "execution_count": 28,
      "metadata": {
        "id": "dQiTclOuhO3n"
      },
      "outputs": [],
      "source": [
        "# Export DataFrames to CSV\n",
        "df_orders.to_csv('orders_and_shipments.csv', index=False)\n",
        "df_inventory.to_csv('inventory.csv', index=False)\n",
        "df_fulfillment.to_csv('fulfillment.csv', index=False)"
      ]
    }
  ],
  "metadata": {
    "colab": {
      "provenance": []
    },
    "kernelspec": {
      "display_name": "Python 3",
      "name": "python3"
    },
    "language_info": {
      "codemirror_mode": {
        "name": "ipython",
        "version": 3
      },
      "file_extension": ".py",
      "mimetype": "text/x-python",
      "name": "python",
      "nbconvert_exporter": "python",
      "pygments_lexer": "ipython3",
      "version": "3.11.5"
    }
  },
  "nbformat": 4,
  "nbformat_minor": 0
}
